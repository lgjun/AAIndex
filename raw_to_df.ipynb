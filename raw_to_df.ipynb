{
 "cells": [
  {
   "cell_type": "code",
   "execution_count": 1,
   "metadata": {},
   "outputs": [],
   "source": [
    "import pandas as pd\n",
    "import numpy as np"
   ]
  },
  {
   "cell_type": "markdown",
   "metadata": {},
   "source": [
    "## AAIndex 1"
   ]
  },
  {
   "cell_type": "code",
   "execution_count": 77,
   "metadata": {},
   "outputs": [],
   "source": [
    "def conversion_aa1(data):\n",
    "    \"Converts raw AAIndex1 into useable Pandas DataFrame\"\n",
    "    \n",
    "    # define column names and initialize dataframe\n",
    "    col1 = ['Description']\n",
    "    aa = ['A', 'R', 'N', 'D', 'C', 'Q', 'E', 'G', 'H', 'I',\n",
    "          'L', 'K', 'M', 'F', 'P', 'S', 'T', 'W', 'Y', 'V']\n",
    "    columns = col1+aa\n",
    "    df = pd.DataFrame(data=[], columns=columns)\n",
    "    \n",
    "    # conversion by parsing text file line by line\n",
    "    with open(data) as f: \n",
    "        for i, line in enumerate(f):\n",
    "            if line[0] == 'H':\n",
    "                description = line.split()[1]\n",
    "            if line[0] == 'I':\n",
    "                tmp = i\n",
    "            if 'tmp' in locals():\n",
    "                if i == tmp+1:\n",
    "                    tmp1 = [description]+line.split()\n",
    "                if i == tmp+2:\n",
    "                    tmp2 = line.split()\n",
    "                    tmp_all = tmp1+tmp2\n",
    "                    tmp_all = pd.DataFrame([tmp_all], columns=columns)\n",
    "                    df = df.append([tmp_all]).reset_index(drop=True)    \n",
    "    \n",
    "    return df"
   ]
  },
  {
   "cell_type": "code",
   "execution_count": 78,
   "metadata": {},
   "outputs": [],
   "source": [
    "# execute function\n",
    "df_aa1 = conversion_aa1('data/aaindex1.txt')"
   ]
  },
  {
   "cell_type": "code",
   "execution_count": 79,
   "metadata": {},
   "outputs": [],
   "source": [
    "# write to csv\n",
    "df_aa1.to_csv('aaindex1.csv', index=False)"
   ]
  },
  {
   "cell_type": "markdown",
   "metadata": {},
   "source": [
    "## AAIndex 2"
   ]
  },
  {
   "cell_type": "code",
   "execution_count": 236,
   "metadata": {},
   "outputs": [],
   "source": [
    "def conversion_aa2(data):\n",
    "    \"Converts raw AAIndex2 into useable Pandas DataFrame\"\n",
    "\n",
    "    MAX_ROW = 22\n",
    "    MAX_COL = 21\n",
    "    INDICES = 94\n",
    "    arr = np.zeros((MAX_ROW, MAX_COL, INDICES))\n",
    "    cnt = -1\n",
    "    all_desc = []\n",
    "\n",
    "    with open(data) as f: \n",
    "        for i, line in enumerate(f):\n",
    "            if line[0] == 'H':\n",
    "                description = line.split()[1]\n",
    "                all_desc.append(description)\n",
    "                cnt += 1\n",
    "            if line[0] == 'M':\n",
    "                tmp = i\n",
    "            if 'tmp' in locals():\n",
    "                for aa in range(MAX_ROW):\n",
    "                    if i == tmp+(aa+1):\n",
    "                        tmp_arr = line.split()\n",
    "                        # replacing dashes with NaN\n",
    "                        tmp_arr = [e.replace(\"-\", \"NaN\") if len(e) == 1 else e for e in tmp_arr]\n",
    "                        try:\n",
    "                            float(tmp_arr[0])\n",
    "                            arr[aa,:len(tmp_arr),cnt] = tmp_arr\n",
    "                        except ValueError:\n",
    "                            pass\n",
    "\n",
    "    rows = [str(x) for x in range(22)]\n",
    "    cols = [str(x) for x in range(21)]\n",
    "\n",
    "    ext_desc = [[all_desc[i]]*22 for i in range(INDICES)]\n",
    "    flat_desc = [item for sublist in ext_desc for item in sublist]\n",
    "    multind = pd.MultiIndex.from_arrays([flat_desc, rows*INDICES], names=['Description', 'Amino Acids'])\n",
    "\n",
    "    # reshape 3D to 2D\n",
    "    arr2D = arr.transpose(2,0,1).reshape(-1,arr.shape[1])\n",
    "\n",
    "    df = pd.DataFrame({cols[i]: arr2D[:,i] for i in range(21)}, multind)\n",
    "\n",
    "    return df"
   ]
  },
  {
   "cell_type": "code",
   "execution_count": 227,
   "metadata": {},
   "outputs": [],
   "source": [
    "# execute function\n",
    "df_aa2 = conversion_aa2('data/aaindex2.txt')"
   ]
  },
  {
   "cell_type": "code",
   "execution_count": 82,
   "metadata": {},
   "outputs": [],
   "source": [
    "# write to csv\n",
    "df_aa2.to_csv('aaindex2.csv')"
   ]
  },
  {
   "cell_type": "markdown",
   "metadata": {},
   "source": [
    "## AAIndex 3"
   ]
  },
  {
   "cell_type": "code",
   "execution_count": 2,
   "metadata": {},
   "outputs": [],
   "source": [
    "def conversion_aa3(data):\n",
    "    \"Converts raw AAIndex3 into useable Pandas DataFrame\"\n",
    "    \n",
    "    # define column names \n",
    "    columns = ['A', 'R', 'N', 'D', 'C', 'Q', 'E', 'G', 'H', 'I',\n",
    "               'L', 'K', 'M', 'F', 'P', 'S', 'T', 'W', 'Y', 'V']\n",
    "\n",
    "    MAX_ROW = 20\n",
    "    MAX_COL = 20\n",
    "    INDICES = 47\n",
    "    arr = np.zeros((MAX_ROW, MAX_COL, INDICES))\n",
    "    cnt = -1\n",
    "    all_desc = []\n",
    "    \n",
    "    # conversion by parsing text file line by line\n",
    "    with open(data) as f: \n",
    "        for i, line in enumerate(f):\n",
    "            if line[0] == 'H':\n",
    "                description = line.split()[1]\n",
    "                all_desc.append(description)\n",
    "                cnt += 1\n",
    "            if line[0] == 'M':\n",
    "                tmp = i\n",
    "            if 'tmp' in locals():\n",
    "                for aa in range(MAX_ROW):\n",
    "                    if i == tmp+(aa+1):\n",
    "                        tmp_arr = line.split()\n",
    "                        # replacing dashes with NaN\n",
    "                        tmp_arr = [e.replace(\"-\", \"NaN\") if len(e) == 1 else e for e in tmp_arr]\n",
    "                        tmp_arr = [e.replace(\"NA\", \"NaN\") for e in tmp_arr]\n",
    "                        arr[aa,:len(tmp_arr),cnt] = tmp_arr\n",
    "\n",
    "    ext_desc = [[all_desc[i]]*20 for i in range(INDICES)]\n",
    "    flat_desc = [item for sublist in ext_desc for item in sublist]\n",
    "    multind = pd.MultiIndex.from_arrays([flat_desc, columns*INDICES], names=['Description', 'Amino Acids'])\n",
    "\n",
    "    # reshape 3D to 2D\n",
    "    arr2D = arr.transpose(2,0,1).reshape(-1,arr.shape[1])\n",
    "\n",
    "    df = pd.DataFrame({columns[i]: arr2D[:,i] for i in range(20)}, multind)\n",
    "\n",
    "    return df"
   ]
  },
  {
   "cell_type": "code",
   "execution_count": 3,
   "metadata": {},
   "outputs": [],
   "source": [
    "# execute function\n",
    "df_aa3 = conversion_aa3('data/aaindex3.txt')"
   ]
  },
  {
   "cell_type": "code",
   "execution_count": null,
   "metadata": {},
   "outputs": [],
   "source": [
    "# write to csv\n",
    "df_aa3.to_csv('aaindex3.csv')"
   ]
  }
 ],
 "metadata": {
  "kernelspec": {
   "display_name": "Python 3",
   "language": "python",
   "name": "python3"
  },
  "language_info": {
   "codemirror_mode": {
    "name": "ipython",
    "version": 3
   },
   "file_extension": ".py",
   "mimetype": "text/x-python",
   "name": "python",
   "nbconvert_exporter": "python",
   "pygments_lexer": "ipython3",
   "version": "3.7.5"
  }
 },
 "nbformat": 4,
 "nbformat_minor": 4
}
