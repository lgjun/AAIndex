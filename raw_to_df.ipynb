{
 "cells": [
  {
   "cell_type": "code",
   "execution_count": 1,
   "metadata": {},
   "outputs": [],
   "source": [
    "import pandas as pd"
   ]
  },
  {
   "cell_type": "markdown",
   "metadata": {},
   "source": [
    "## AAIndex 1"
   ]
  },
  {
   "cell_type": "code",
   "execution_count": 2,
   "metadata": {},
   "outputs": [],
   "source": [
    "def conversion_aa1(data):\n",
    "    \"Converts raw AAIndex1 into useable Pandas DataFrame\"\n",
    "    \n",
    "    # define column names and initialize dataframe\n",
    "    col1 = ['Description']\n",
    "    aa = ['A', 'R', 'N', 'D', 'C', 'Q', 'E', 'G', 'H', 'I',\n",
    "          'L', 'K', 'M', 'F', 'P', 'S', 'T', 'W', 'Y', 'V']\n",
    "    columns = col1+aa\n",
    "    df = pd.DataFrame(data=[], columns=columns)\n",
    "    \n",
    "    # conversion by parsing text file line by line\n",
    "    with open(data) as f: \n",
    "        for i, line in enumerate(f):\n",
    "            if line[0] == 'H':\n",
    "                description = line.split()[1]\n",
    "            if line[0] == 'I':\n",
    "                tmp = i\n",
    "            if 'tmp' in locals():\n",
    "                if i == tmp+1:\n",
    "                    tmp1 = [description]+line.split()\n",
    "                if i == tmp+2:\n",
    "                    tmp2 = line.split()\n",
    "                    tmp_all = tmp1+tmp2\n",
    "                    tmp_all = pd.DataFrame([tmp_all], columns=columns)\n",
    "                    df = df.append([tmp_all]).reset_index(drop=True)    \n",
    "    \n",
    "    return df"
   ]
  },
  {
   "cell_type": "code",
   "execution_count": 4,
   "metadata": {},
   "outputs": [],
   "source": [
    "# execute function\n",
    "df_aa1 = conversion_aa1('Data/aaindex1.txt')"
   ]
  },
  {
   "cell_type": "code",
   "execution_count": 60,
   "metadata": {},
   "outputs": [],
   "source": [
    "# write to csv\n",
    "df_aa1.to_csv('df_AAIndex1.csv', index=False)"
   ]
  }
 ],
 "metadata": {
  "kernelspec": {
   "display_name": "Python 3",
   "language": "python",
   "name": "python3"
  },
  "language_info": {
   "codemirror_mode": {
    "name": "ipython",
    "version": 3
   },
   "file_extension": ".py",
   "mimetype": "text/x-python",
   "name": "python",
   "nbconvert_exporter": "python",
   "pygments_lexer": "ipython3",
   "version": "3.7.5"
  }
 },
 "nbformat": 4,
 "nbformat_minor": 4
}
